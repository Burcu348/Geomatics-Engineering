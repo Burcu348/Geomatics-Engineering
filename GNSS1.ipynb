{
 "cells": [
  {
   "cell_type": "markdown",
   "id": "b4383b5e",
   "metadata": {},
   "source": [
    "## First Part-Navigation Message"
   ]
  },
  {
   "cell_type": "markdown",
   "id": "71411a2f",
   "metadata": {},
   "source": [
    "##Mission of this study is to calculate the position of the GPS satellite using the navigation message.\n",
    "I computed the PRN number of associated satellite by adding up the last three number of my school ID and I found it as 17.I computed epoch as 47040.\n",
    "This codes are written by F.Burcu Arslan."
   ]
  },
  {
   "cell_type": "code",
   "execution_count": 1,
   "id": "18149dd5",
   "metadata": {},
   "outputs": [],
   "source": [
    "from numpy import *\n",
    "import math as m"
   ]
  },
  {
   "cell_type": "code",
   "execution_count": 2,
   "id": "e111e07c",
   "metadata": {},
   "outputs": [],
   "source": [
    "\"\"\"\n",
    "Rotation about x axis\n",
    "\"\"\"\n",
    "def R1(α):\n",
    "    return matrix([\n",
    "            [1  ,  0  ,  0  ],\n",
    "            [0,m.cos(α),m.sin(α)],\n",
    "            [0,-m.sin(α),m.cos(α)]]\n",
    "         )\n",
    "\n",
    "\"\"\"\n",
    "Rotation about y axis\n",
    "\"\"\"\n",
    "def R2(α):\n",
    "    return matrix([\n",
    "            [m.cos(α),0, -m.sin(α)],\n",
    "            [0 ,  1   ,  0  ],\n",
    "            [m.sin(α),0, m.cos(α)]]\n",
    "      )\n",
    "\n",
    "\"\"\"\n",
    "Rotation about z axis\n",
    "\"\"\"\n",
    "def R3(α):\n",
    "    return matrix([\n",
    "            [m.cos(α),m.sin(α),0],\n",
    "            [-m.sin(α),m.cos(α),0],\n",
    "            [  0 ,  0  ,  1  ]]\n",
    "      )\n"
   ]
  },
  {
   "cell_type": "code",
   "execution_count": null,
   "id": "9c6fabf2",
   "metadata": {},
   "outputs": [],
   "source": []
  },
  {
   "cell_type": "code",
   "execution_count": null,
   "id": "003e19fc",
   "metadata": {},
   "outputs": [],
   "source": [
    "c = 299792458 # in 𝑚/𝑠\n",
    "µ = 3.986005*(10**14) # in m**3/s**2\n",
    "wE = 7.2921151467*(10**(-5)) # in rad/sec\n",
    "\n",
    "\n",
    "def cal_brd(eph,brd):\n",
    "    eph = 47040 # in seconds of day,it's calculated using my school ID\n",
    "    # brd = array(brd).reshape(7,4) #adjustments for the vector entered to be in 3*1 format\n",
    "    \n",
    "    # Crc, Crs orbital radius correction ,in meter\n",
    "    # Cuc, Cus latitude argument correction, in radians\n",
    "    # Cic, Cis inclination correction, in radians\n",
    "    Crs = brd[0][1]   \n",
    "    Δn = brd[0][2]   \n",
    "    M0 = brd[0][3] # M0 in radians  \n",
    "    Cuc = brd[1][0]  \n",
    "    e = brd[1][1]  \n",
    "    Cus = brd[1][2]  \n",
    "    sqrta = brd[1][3]\n",
    "    t0e = brd[2][0]  \n",
    "    Cic = brd[2][1]  \n",
    "    Ω0 = brd[2][2]  \n",
    "    Cis = brd[2][3] # Ω0 in radians\n",
    "    i0 = brd[3][0]  \n",
    "    Crc = brd[3][1]  \n",
    "    w = brd[3][2] # w is argument of perigee,omega,in radians  \n",
    "    Ω1 = brd[3][3]  # Ω1 is Omega Dot, rad/sec\n",
    "    i1 = brd[4][0] # i1 is IDOT(rate of inclination angle) rad/sec\n",
    "    \n",
    "    a = sqrta**2 # I pulled this value from the given ones for later use.\n",
    "    \n",
    "    t0e = t0e - (3*86400) # updated t0e,in seconds of day\n",
    "    \n",
    "    tk = eph - t0e\n",
    "    Mk = M0 + ((m.sqrt(µ/a**3) + Δn) * tk)\n",
    "    E0 = Mk \n",
    "    Ek = Mk + e*m.sin(E0)\n",
    "    while abs(Ek - E0) < 1E-15:\n",
    "        E0 = Ek\n",
    "        Ek = Mk + e*m.sin(Ek)\n",
    "        \n",
    "    vk = m.atan((m.sqrt(1-e**2)* m.sin(Ek)) / (m.cos(Ek) - e)) # vk is the true anomaly\n",
    "    uk = w + vk + (Cuc*m.cos(2*(w+vk))) + (Cus*m.sin(2*(w+vk))) # argument of latitude\n",
    "    rk = a*(1 - e*m.cos(Ek)) + Crc*m.cos(2*(w+vk)) + Crs*m.sin(2*(w+vk)) # rk is the radial distance\n",
    "    ik = i0 + i1*tk + Cic*m.cos(2*(w+vk)) + Cis*m.sin(2*(w+vk)) # inclination\n",
    "    λk = Ω0 + (Ω1 - wE)*tk - wE*t0e # longitude of the ascending node\n",
    "    \n",
    "    pos = R3(-λk).dot(R1(-ik)).dot(R3(-uk)).dot(array([rk,0,0]).reshape(3,1))\n",
    "    \n",
    "    return pos  "
   ]
  },
  {
   "cell_type": "code",
   "execution_count": 8,
   "id": "bf6bda1c",
   "metadata": {},
   "outputs": [
    {
     "data": {
      "text/plain": [
       "matrix([[ 23553590.98016134],\n",
       "        [-12046512.97720966],\n",
       "        [  2474316.74978707]])"
      ]
     },
     "execution_count": 8,
     "metadata": {},
     "output_type": "execute_result"
    }
   ],
   "source": [
    "cal_brd(47040,[[ 0.360000000000*(10**2), 0.879062500000*(10**2), 0.392016329054*(10**(-8)),-0.214407259609*10],\n",
    "                [0.466033816338*(10**(-5)), 0.136141142575*(10**(-1)), 0.648945569992*(10**(-5)), 0.515372900581*(10**4)],\n",
    "                [0.302400000000*(10**6), 0.234693288803*(10**(-6)), 0.289410748276*10, 0.180676579475*(10**(-6))],\n",
    "                [0.975631445640*(10**0), 0.263031250000*(10**3),-0.141768597766*10,-0.769032033271*(10**(-8))],\n",
    "                [-0.367872466222*(10**(-10)), 0.100000000000*10, 0.225100000000*(10**4), 0.000000000000],\n",
    "                [0.200000000000*10, 0.000000000000,-0.111758708954*(10**(-7)), 0.360000000000*(10**2)],\n",
    "                [0.295987000000*(10**6), 0.400000000000*10, 0.000000000000, 0.000000000000]],\n",
    "    )"
   ]
  }
 ],
 "metadata": {
  "kernelspec": {
   "display_name": "Python 3 (ipykernel)",
   "language": "python",
   "name": "python3"
  },
  "language_info": {
   "codemirror_mode": {
    "name": "ipython",
    "version": 3
   },
   "file_extension": ".py",
   "mimetype": "text/x-python",
   "name": "python",
   "nbconvert_exporter": "python",
   "pygments_lexer": "ipython3",
   "version": "3.9.12"
  }
 },
 "nbformat": 4,
 "nbformat_minor": 5
}
