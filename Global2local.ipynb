{
 "cells": [
  {
   "cell_type": "code",
   "execution_count": 1,
   "metadata": {},
   "outputs": [],
   "source": [
    "import math\n",
    "\n",
    "a = 6378137.0 #semi-major axis\n",
    "b = 6356752.3141#semi-minor axis\n",
    "\n",
    "\n",
    "def xyz2blh(x, y, z):\n",
    "   \n",
    "    e = math.sqrt((a**2-b**2)/a**2)\n",
    "    \n",
    "    longitude = math.atan2(y, x)#longitude\n",
    "\n",
    "    xy_hypot = math.sqrt(x**2+y**2)\n",
    "\n",
    "    lat0 = 0\n",
    "    latitude = math.atan(z / xy_hypot)\n",
    "    \n",
    "    while abs(latitude - lat0) > 1E-12:#1E-12=10^-12 they are equal to each other\n",
    "        lat0 = latitude\n",
    "        N = a / math.sqrt(1 - e**2 * math.sin(lat0)**2)\n",
    "        latitude = math.atan((z + e**2 * N * math.sin(lat0)) / xy_hypot)\n",
    "\n",
    "    \n",
    "    N = a / math.sqrt(1 - e**2 * math.sin(latitude)**2)\n",
    "    height=xy_hypot/math.cos(latitude)-N\n",
    "\n",
    "    # convert angles to degree\n",
    "    longitude = math.degrees(longitude)\n",
    "    latitude = math.degrees(latitude)\n",
    "\n",
    "    return [round(latitude), round(longitude), round(height)]"
   ]
  },
  {
   "cell_type": "code",
   "execution_count": 4,
   "metadata": {},
   "outputs": [
    {
     "name": "stdout",
     "output_type": "stream",
     "text": [
      "X point of target point: 21007733.6107\n",
      "Y poinnt of target point: 15033152.8348\n",
      "Z point of target point: -7112458.1231\n",
      "X point of observation point: 4208830.726\n",
      "Y poinnt of observation point: 2334850.0235\n",
      "Z point of observation point: 4171267.089\n"
     ]
    },
    {
     "data": {
      "text/plain": [
       "[array([172.39848474]), array([69.58873581]), array([23890845.25669263])]"
      ]
     },
     "execution_count": 4,
     "metadata": {},
     "output_type": "execute_result"
    }
   ],
   "source": [
    "import numpy as np \n",
    "\n",
    "\n",
    "xP=float(input(\"X point of target point: \"))\n",
    "yP=float(input(\"Y poinnt of target point: \"))\n",
    "zP=float(input(\"Z point of target point: \"))\n",
    "P=[[xP],[yP],[zP]]\n",
    "\n",
    "xR=float(input(\"X point of observation point: \"))\n",
    "yR=float(input(\"Y poinnt of observation point: \"))\n",
    "zR=float(input(\"Z point of observation point: \"))\n",
    "R=[[xR],[yR],[zR]]\n",
    "\n",
    "\n",
    "def global2local(P,R):\n",
    "    \n",
    "    latitude,longitude=xyz2blh(xR,yR,zR)[0],xyz2blh(xR,yR,zR)[1]\n",
    "    latitude,longitude=np.radians(latitude),np.radians(longitude)\n",
    "    slat,slong,clat,clong = np.sin(latitude),np.sin(longitude),np.cos(latitude),np.cos(longitude)\n",
    "    transpose_A =[[-slat*clong,-slat*slong,clat],\n",
    "                  [-slong     , clong     , 0  ],\n",
    "                  [clat*clong ,clat*slong ,slat ]]\n",
    "    \n",
    "    deltaX=[[xP-xR],[yP-yR],[zP-zR]]\n",
    "    new_coord=np.dot(transpose_A,deltaX)\n",
    "    x,y,z=new_coord[0],new_coord[1],new_coord[2]\n",
    "    \n",
    "    azim=np.arctan2(y,x)\n",
    "    zen=np.arctan2(y,z*np.sin(azim))\n",
    "    r=z/np.cos(zen)\n",
    "    \n",
    "    return [np.degrees(azim),np.degrees(zen),r]\n",
    "\n",
    "global2local(P,R)"
   ]
  },
  {
   "cell_type": "code",
   "execution_count": null,
   "metadata": {},
   "outputs": [],
   "source": []
  },
  {
   "cell_type": "markdown",
   "metadata": {},
   "source": []
  }
 ],
 "metadata": {
  "kernelspec": {
   "display_name": "Python 3 (ipykernel)",
   "language": "python",
   "name": "python3"
  },
  "language_info": {
   "codemirror_mode": {
    "name": "ipython",
    "version": 3
   },
   "file_extension": ".py",
   "mimetype": "text/x-python",
   "name": "python",
   "nbconvert_exporter": "python",
   "pygments_lexer": "ipython3",
   "version": "3.9.12"
  }
 },
 "nbformat": 4,
 "nbformat_minor": 4
}
