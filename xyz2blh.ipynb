{
 "cells": [
  {
   "cell_type": "code",
   "execution_count": null,
   "metadata": {},
   "outputs": [],
   "source": [
    "# conversion from cartesian coordinates to ellipsoidal coordinates\n",
    "\n",
    "import math\n",
    "\n",
    "a = 6378137.0 #semi-major axis\n",
    "b = 6356752.3141#semi-minor axis\n",
    "\n",
    "\n",
    "def xyz2blh(x, y, z):\n",
    "   \n",
    "    e = math.sqrt((a**2-b**2)/a**2)\n",
    "    \n",
    "    longitude = math.atan2(y, x)#longitude\n",
    "\n",
    "    xy_hypot = math.sqrt(x**2+y**2)\n",
    "\n",
    "    lat0 = 0\n",
    "    latitude = math.atan(z / xy_hypot)\n",
    "    \n",
    "    while abs(latitude - lat0) > 1E-12:#1E-12=10^-12 they are equal to each other\n",
    "        lat0 = latitude\n",
    "        N = a / math.sqrt(1 - e**2 * math.sin(lat0)**2)\n",
    "        latitude = math.atan((z + e**2 * N * math.sin(lat0)) / xy_hypot)\n",
    "\n",
    "    \n",
    "    N = a / math.sqrt(1 - e**2 * math.sin(latitude)**2)\n",
    "    height=xy_hypot/math.cos(latitude)-N\n",
    "\n",
    "    # convert angles to degree\n",
    "    longitude = math.degrees(longitude)\n",
    "    latitude = math.degrees(latitude)\n",
    "\n",
    "    return [round(latitude), round(longitude), round(height)]\n",
    "\n",
    "\n"
   ]
  },
  {
   "cell_type": "code",
   "execution_count": 6,
   "metadata": {},
   "outputs": [
    {
     "data": {
      "text/plain": [
       "[47, 15, 2000]"
      ]
     },
     "execution_count": 6,
     "metadata": {},
     "output_type": "execute_result"
    }
   ],
   "source": [
    "xyz2blh(4210520.621,1128205.600,4643227.496 )"
   ]
  },
  {
   "cell_type": "code",
   "execution_count": null,
   "metadata": {},
   "outputs": [],
   "source": []
  },
  {
   "cell_type": "markdown",
   "metadata": {},
   "source": []
  }
 ],
 "metadata": {
  "kernelspec": {
   "display_name": "Python 3 (ipykernel)",
   "language": "python",
   "name": "python3"
  },
  "language_info": {
   "codemirror_mode": {
    "name": "ipython",
    "version": 3
   },
   "file_extension": ".py",
   "mimetype": "text/x-python",
   "name": "python",
   "nbconvert_exporter": "python",
   "pygments_lexer": "ipython3",
   "version": "3.9.12"
  }
 },
 "nbformat": 4,
 "nbformat_minor": 4
}
