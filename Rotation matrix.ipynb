{
 "cells": [
  {
   "cell_type": "code",
   "execution_count": null,
   "metadata": {},
   "outputs": [],
   "source": [
    "import numpy as np\n",
    "import math \n",
    "\n",
    "def rotation(vec,ang,axis):\n",
    "    \n",
    "    if ang < 0: # control mechanism for clockwise direction(clockwise is negative,counter-clockwise is positive)\n",
    "        ang += 360\n",
    "    else:\n",
    "        pass\n",
    "    ang=math.radians(ang) # here we converted values in degree to radians\n",
    "    \n",
    "    c,s=math.cos(ang),math.sin(ang)\n",
    "\n",
    "    vec=np.array(vec).reshape(3,1) # adjustments for the vector entered to be in 3*1 format\n",
    "    if axis == 1:  # according to axis value matrix multiplication\n",
    "        return np.dot(np.array([\n",
    "            [1 , 0 , 0],\n",
    "            [0 , c , s],\n",
    "            [0 , -s , c]\n",
    "        ]),vec)\n",
    "    elif axis == 2:\n",
    "        return np.dot(np.array([\n",
    "            [c , 0 , -s],\n",
    "            [0 , 1 , 0],\n",
    "            [s , 0 , c]\n",
    "        ]),vec)\n",
    "    elif axis == 3:\n",
    "        return np.dot(np.array([\n",
    "            [c , s , 0],\n",
    "            [-s , c , 0],\n",
    "            [0 , 0 , 1]\n",
    "        ]),vec)\n",
    "    else:\n",
    "        raise ValueError(\"axis should in range\")\n",
    " "
   ]
  },
  {
   "cell_type": "code",
   "execution_count": 33,
   "metadata": {},
   "outputs": [
    {
     "data": {
      "text/plain": [
       "array([[162.37329074],\n",
       "       [120.        ],\n",
       "       [153.73650982]])"
      ]
     },
     "execution_count": 33,
     "metadata": {},
     "output_type": "execute_result"
    }
   ],
   "source": [
    "rotation([100,120,200],-20,2)"
   ]
  },
  {
   "cell_type": "code",
   "execution_count": 30,
   "metadata": {},
   "outputs": [
    {
     "data": {
      "text/plain": [
       "array([[197.87436921],\n",
       "       [ 40.13501656],\n",
       "       [153.73650982]])"
      ]
     },
     "execution_count": 30,
     "metadata": {},
     "output_type": "execute_result"
    }
   ],
   "source": [
    "rotation([162.37329074,120,153.73650982],25,3)"
   ]
  },
  {
   "cell_type": "code",
   "execution_count": 31,
   "metadata": {},
   "outputs": [
    {
     "data": {
      "text/plain": [
       "array([[177.66367616],\n",
       "       [ 40.13501656],\n",
       "       [176.70540064]])"
      ]
     },
     "execution_count": 31,
     "metadata": {},
     "output_type": "execute_result"
    }
   ],
   "source": [
    "rotation([197.87436921,40.13501656 ,153.73650982 ],7,2)"
   ]
  }
 ],
 "metadata": {
  "kernelspec": {
   "display_name": "Python 3 (ipykernel)",
   "language": "python",
   "name": "python3"
  },
  "language_info": {
   "codemirror_mode": {
    "name": "ipython",
    "version": 3
   },
   "file_extension": ".py",
   "mimetype": "text/x-python",
   "name": "python",
   "nbconvert_exporter": "python",
   "pygments_lexer": "ipython3",
   "version": "3.9.12"
  }
 },
 "nbformat": 4,
 "nbformat_minor": 4
}
