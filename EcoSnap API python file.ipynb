{
 "cells": [
  {
   "cell_type": "code",
   "execution_count": 8,
   "id": "f9d4e16f",
   "metadata": {},
   "outputs": [
    {
     "name": "stdout",
     "output_type": "stream",
     "text": [
      "[\n",
      "    {\n",
      "        \"id\": \"3fc77095-919a-473a-b7ec-a47a2238ee89\",\n",
      "        \"userName\": \"Burcu \",\n",
      "        \"userSurname\": \"Arslan \",\n",
      "        \"userPhotoUrl\": \"https://peer-review.hacettepe.edu.tr/ecosnap-photos/6fc3c6e3-9fd6-4518-9906-6742eaf1f9a5.jpeg\",\n",
      "        \"activityName\": \"Unfinished pavement\",\n",
      "        \"activityDescription\": null,\n",
      "        \"activityLatitude\": 39.8692866,\n",
      "        \"activityLongitude\": 32.7340823,\n",
      "        \"activityDate\": \"2023-05-03T14:18:57.088516+00:00\",\n",
      "        \"activityType\": \"Bad Sidewalk\",\n",
      "        \"photos\": [\n",
      "            \"https://peer-review.hacettepe.edu.tr/ecosnap-photos/27f3afb2-b9ee-4e51-a8dd-5debfa5a8de1.jpg\"\n",
      "        ]\n",
      "    },\n",
      "    {\n",
      "        \"id\": \"87e62e7c-52d9-4fa0-96c3-8e47d7ffbbf2\",\n",
      "        \"userName\": \"Burcu \",\n",
      "        \"userSurname\": \"Arslan \",\n",
      "        \"userPhotoUrl\": \"https://peer-review.hacettepe.edu.tr/ecosnap-photos/6fc3c6e3-9fd6-4518-9906-6742eaf1f9a5.jpeg\",\n",
      "        \"activityName\": \"Garbage problem\",\n",
      "        \"activityDescription\": null,\n",
      "        \"activityLatitude\": 39.8699982,\n",
      "        \"activityLongitude\": 32.7309899,\n",
      "        \"activityDate\": \"2023-05-03T13:18:42.788361+00:00\",\n",
      "        \"activityType\": \"Environmental Pollution\",\n",
      "        \"photos\": [\n",
      "            \"https://peer-review.hacettepe.edu.tr/ecosnap-photos/c90c413c-5f5f-47df-aace-a867add2f591.jpg\"\n",
      "        ]\n",
      "    },\n",
      "    {\n",
      "        \"id\": \"b7fed569-2527-4e1a-82c9-6a78b248c2c8\",\n",
      "        \"userName\": \"Burcu \",\n",
      "        \"userSurname\": \"Arslan \",\n",
      "        \"userPhotoUrl\": \"https://peer-review.hacettepe.edu.tr/ecosnap-photos/6fc3c6e3-9fd6-4518-9906-6742eaf1f9a5.jpeg\",\n",
      "        \"activityName\": \"Broken pavement\",\n",
      "        \"activityDescription\": null,\n",
      "        \"activityLatitude\": 39.9156276,\n",
      "        \"activityLongitude\": 32.8546118,\n",
      "        \"activityDate\": \"2023-04-22T14:57:41.466881+00:00\",\n",
      "        \"activityType\": \"Bad Sidewalk\",\n",
      "        \"photos\": [\n",
      "            \"https://peer-review.hacettepe.edu.tr/ecosnap-photos/87d73311-2550-4836-8476-c0f5a7124772.jpg\"\n",
      "        ]\n",
      "    },\n",
      "    {\n",
      "        \"id\": \"e73c7c65-4b82-4498-8b1e-9ec0471f3c84\",\n",
      "        \"userName\": \"Burcu \",\n",
      "        \"userSurname\": \"Arslan \",\n",
      "        \"userPhotoUrl\": \"https://peer-review.hacettepe.edu.tr/ecosnap-photos/6fc3c6e3-9fd6-4518-9906-6742eaf1f9a5.jpeg\",\n",
      "        \"activityName\": \"Garbage problem\",\n",
      "        \"activityDescription\": null,\n",
      "        \"activityLatitude\": 39.9377751,\n",
      "        \"activityLongitude\": 32.6561175,\n",
      "        \"activityDate\": \"2023-05-03T16:36:44.971504+00:00\",\n",
      "        \"activityType\": \"Environmental Pollution\",\n",
      "        \"photos\": [\n",
      "            \"https://peer-review.hacettepe.edu.tr/ecosnap-photos/32f2d6c3-487b-42a4-abd0-2237e1c2e074.jpg\"\n",
      "        ]\n",
      "    }\n",
      "]\n"
     ]
    }
   ],
   "source": [
    "import json\n",
    "import requests\n",
    "\n",
    "resp = requests.get(\"https://peer-review.hacettepe.edu.tr/v1/api/studentactivity?UserId=3aff1942-bc41-4a99-97cf-eb551787ada6\")\n",
    "resp = resp.json()\n",
    "response = json.dumps(resp, indent=4)\n",
    "print(response)"
   ]
  },
  {
   "cell_type": "code",
   "execution_count": null,
   "id": "eb67f6f7",
   "metadata": {},
   "outputs": [],
   "source": []
  }
 ],
 "metadata": {
  "kernelspec": {
   "display_name": "Python 3 (ipykernel)",
   "language": "python",
   "name": "python3"
  },
  "language_info": {
   "codemirror_mode": {
    "name": "ipython",
    "version": 3
   },
   "file_extension": ".py",
   "mimetype": "text/x-python",
   "name": "python",
   "nbconvert_exporter": "python",
   "pygments_lexer": "ipython3",
   "version": "3.9.12"
  }
 },
 "nbformat": 4,
 "nbformat_minor": 5
}
