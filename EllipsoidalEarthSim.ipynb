{
 "cells": [
  {
   "cell_type": "code",
   "execution_count": 1,
   "metadata": {
    "scrolled": false
   },
   "outputs": [
    {
     "data": {
      "text/html": [
       "<div id=\"glowscript\" class=\"glowscript\"></div>"
      ],
      "text/plain": [
       "<IPython.core.display.HTML object>"
      ]
     },
     "metadata": {},
     "output_type": "display_data"
    },
    {
     "data": {
      "application/javascript": [
       "if (typeof Jupyter !== \"undefined\") { window.__context = { glowscript_container: $(\"#glowscript\").removeAttr(\"id\")};}else{ element.textContent = ' ';}"
      ],
      "text/plain": [
       "<IPython.core.display.Javascript object>"
      ]
     },
     "metadata": {},
     "output_type": "display_data"
    }
   ],
   "source": [
    "from vpython import *\n",
    "\n",
    "from astropy.time import Time\n",
    "import numpy as np\n",
    "from PIL import Image"
   ]
  },
  {
   "cell_type": "markdown",
   "metadata": {},
   "source": [
    "# Definition of a Force Field"
   ]
  },
  {
   "cell_type": "code",
   "execution_count": 2,
   "metadata": {},
   "outputs": [],
   "source": [
    "class ForceField(object):\n",
    "    def __init__(self,name):\n",
    "        self.name = name\n",
    "    '''\n",
    "    return the acceleration vector given position r\n",
    "    '''\n",
    "    def a(self,r):\n",
    "        pass"
   ]
  },
  {
   "cell_type": "markdown",
   "metadata": {},
   "source": [
    "## Define the Force Field of Earth In the Case of spherical Earth Model\n",
    "$$\n",
    "    F = - \\frac{GM}{r^2}\\frac{\\boldsymbol{r}}{r}\n",
    "$$\n"
   ]
  },
  {
   "cell_type": "code",
   "execution_count": 3,
   "metadata": {},
   "outputs": [],
   "source": [
    "class GravitationalForceField(ForceField):\n",
    "    def __init__(self):\n",
    "        self.GM = 398600.4405e9\n",
    "        self.R = 6371000\n",
    "    \n",
    "    def a(self,r): # r = [x,y,z]\n",
    "        rr = np.sqrt(np.sum(r ** 2))\n",
    "        \n",
    "        return -self.GM/(rr ** 3) *r"
   ]
  },
  {
   "cell_type": "markdown",
   "metadata": {},
   "source": [
    "## In the case of Flattened Earth The Force Field includes additional terms (J2)\n",
    "\n",
    "\n",
    "The potential with respect to a flattened earth is defined as:\n",
    "\n",
    "$$\n",
    "U(r) = \\frac{GM}{r} - \\frac{J_2 G M R^2}{2r^3} \\left ( 3 \\left (\\frac{z}{r} \\right )^2 - 1 \\right )\n",
    "$$\n",
    "\n",
    "\n",
    "The gravitational acceleration is given as the $\\nabla U$.\n",
    "\n",
    "$$\n",
    "\\nabla U(r) = \\begin{bmatrix}\n",
    "\\frac{\\partial{U}}{\\partial{x}} \\\\\n",
    "\\frac{\\partial{U}}{\\partial{y}} \\\\\n",
    "\\frac{\\partial{U}}{\\partial{z}}\n",
    "\\end{bmatrix}\n",
    "=\n",
    "\\begin{bmatrix}\n",
    "-\\frac{G M x}{r^3} -\\frac{1}{2}J_2 G M R^2 \\left (\\frac{3x}{r^5} - \\frac{15xz^2}{r^7}\\right )\\\\\n",
    "-\\frac{G M y}{r^3} -\\frac{1}{2}J_2 G M R^2 \\left (\\frac{3y}{r^5} - \\frac{15yz^2}{r^7}\\right ) \\\\\n",
    "-\\frac{G M z}{r^3} -\\frac{1}{2}J_2 G M R^2 \\left (\\frac{9z}{r^5} - \\frac{15z^3}{r^7}\\right )\n",
    "\\end{bmatrix}\n",
    "$$\n",
    "\n",
    "Given\n",
    "$$\n",
    "GM = 398600.4405x10^9\n",
    "$$\n",
    "\n",
    "$$\n",
    "J_2 =  1.0826157x10^{-3}\n",
    "$$\n",
    "\n",
    "$$\n",
    "R = 6378135\n",
    "$$\n",
    "\n"
   ]
  },
  {
   "cell_type": "code",
   "execution_count": 4,
   "metadata": {},
   "outputs": [],
   "source": [
    "class ForceFieldEllipsoidalEarth(GravitationalForceField):\n",
    "    def __init__(self):\n",
    "        self.GM = 398600.4405e9\n",
    "        self.R = 6378135\n",
    "        self.J2 = 1.0826157e-3\n",
    "        \n",
    "    def a(self, r):\n",
    "        a_sphere = GravitationalForceField.a(self,r)\n",
    "        \n",
    "        a_flat = np.array([self.partial_x(r), self.partial_y(r), self.partial_z(r)])\n",
    "        \n",
    "        return a_sphere + a_flat\n",
    "    \n",
    "    def partial_x(self, rad):\n",
    "        r = np.sqrt(np.sum(rad**2))\n",
    "        x  = rad[0]\n",
    "        y = rad[1]\n",
    "        z = rad[2]\n",
    "\n",
    "       #rad = np.sqrt(r[0]**2 + r[1]**2 + r[2]**2 )\n",
    "        \n",
    "        return -0.5*self.GM*self.J2*self.R**2 * (3*x/(r**5) - 15*x*(z**2)/(r**7))\n",
    "    \n",
    "    def partial_y(self, rad):\n",
    "        r = np.sqrt(np.sum(rad**2))\n",
    "        x  = rad[0]\n",
    "        y = rad[1]\n",
    "        z = rad[2]\n",
    "\n",
    "        return -0.5*self.GM*self.J2*self.R**2 * (3*y/(r**5) - 15*y*(z**2)/(r**7))\n",
    "\n",
    "    \n",
    "    def partial_z(self, rad):\n",
    "        r = np.sqrt(np.sum(rad**2))\n",
    "        x  = rad[0]\n",
    "        y = rad[1]\n",
    "        z = rad[2]\n",
    "\n",
    "        return -0.5*self.GM*self.J2*self.R**2 * (9*z/(r**5) - 15*(z**3)/(r**7))     "
   ]
  },
  {
   "cell_type": "code",
   "execution_count": 5,
   "metadata": {},
   "outputs": [],
   "source": [
    "# Simple Euler integration\n",
    "class Integrator(object):\n",
    "    def __init__(self):\n",
    "        pass\n",
    "    \n",
    "    def initialize(self, state):\n",
    "        self.state = state\n",
    "        \n",
    "    ##\n",
    "    # Calculate next state given ODE\n",
    "    #\n",
    "    def next(self, t, dt):\n",
    "        s = self.state.s(t)\n",
    "        ds = self.state.ds(t,dt, s)\n",
    "        return s+ dt*ds\n",
    "    \n",
    "\n",
    "#\n",
    "# Runge Kutta Integration\n",
    "# see http://www.foo.be/docs-free/Numerical_Recipe_In_C/c16-1.pdf\n",
    "#\n",
    "class RK2Integrator(Integrator):\n",
    "    def __init__(self):\n",
    "        pass\n",
    "        \n",
    "    def next(self, t, dt):\n",
    "        s = self.state.s(t)\n",
    "        \n",
    "        ## Find full step ahead\n",
    "        k1 = dt * self.state.ds(t,dt,s)\n",
    "        \n",
    "        ## use half of the full step ahead for correction\n",
    "        k2 = dt*self.state.ds(t,dt/2.0, s+k1/2.0)\n",
    "        \n",
    "        return s+k2\n",
    "\n",
    "\n",
    "class SatelliteState(object):\n",
    "    ## Initialize a satellite state with initial position,\n",
    "    ## initial velocity\n",
    "    ## the geopotential force field\n",
    "    ## and a numerical integrator\n",
    "    def __init__(self, i_pos, i_vel, force_field, integ):\n",
    "        self.position = np.array(i_pos)\n",
    "        self.velocity = np.array(i_vel)\n",
    "        self.force_field = force_field\n",
    "        self.integrator = integ\n",
    "        ## Intialize the integrator with the initial state of pos, and velocity\n",
    "        self.integrator.initialize(self)\n",
    "        \n",
    "        \n",
    "    \n",
    "    @classmethod\n",
    "    def fromKeplerElements(cls, force_field, integ, a, e, incl, theta, omega, T, t):\n",
    "        GM = force_field.GM\n",
    "        \n",
    "        incl = np.radians(incl)\n",
    "        theta = np.radians(theta)\n",
    "        omega = np.radians(omega)\n",
    "        \n",
    "        M = np.sqrt(GM/(a**3)) * (t-T)\n",
    "        \n",
    "        E = M\n",
    "        \n",
    "        for i in range(3):\n",
    "            E = M + e*np.sin(E)\n",
    "        \n",
    "        v = 2*np.arctan( np.sqrt((1+e)/(1-e)) * np.tan(E/2.0))\n",
    "        r = a*(1-e*np.cos(E))\n",
    "        \n",
    "        R3_omega = np.array([\n",
    "            [np.cos(omega), -np.sin(omega), 0],\n",
    "            [np.sin(omega), np.cos(omega), 0],\n",
    "            [0,             0,              1]\n",
    "            \n",
    "        ])\n",
    "\n",
    "        R3_theta = np.array([\n",
    "            [np.cos(theta), -np.sin(theta), 0],\n",
    "            [np.sin(theta), np.cos(theta), 0],\n",
    "            [0,             0,              1]\n",
    "            \n",
    "        ])\n",
    "\n",
    "        R1_i = np.array([\n",
    "            [1,             0,              1],\n",
    "            [0, np.cos(incl), -np.sin(incl)],\n",
    "            [0, np.sin(incl), np.cos(incl)],\n",
    "            \n",
    "        ])\n",
    "\n",
    "\n",
    "        x_sat = np.array([r*np.cos(v), r*np.sin(v), 0])\n",
    "        \n",
    "        x_sat = np.dot(R3_omega, np.dot( R1_i, np.dot(R3_theta, x_sat)))\n",
    "        \n",
    "        p = a*(1-e**2)\n",
    "        \n",
    "        v_sat = np.array([-np.sqrt(GM/p)*np.sin(v), np.sqrt(GM/p)*(e+np.cos(v)), 0])\n",
    "        \n",
    "        v_sat = np.dot(R3_omega, np.dot( R1_i, np.dot(R3_theta, v_sat)))\n",
    "        \n",
    "        return SatelliteState(x_sat, v_sat, force_field, integ)\n",
    "        \n",
    "        \n",
    "    \n",
    "    '''\n",
    "    Find and update the position in delta t seconds \n",
    "    Using the integrator\n",
    "    '''\n",
    "    def next(self,t, dt):\n",
    "        ns = self.integrator.next(t,dt)\n",
    "        self.position = np.copy(ns[:3])\n",
    "        self.velocity = np.copy(ns[3:])\n",
    "    \n",
    "    # State at time t\n",
    "    def s(self, t):\n",
    "        ## state is position, velocity represented as a vector\n",
    "        ## the first three items are x,y,z of satellite.\n",
    "        ## the rest is the vx, vy, vz\n",
    "        return np.hstack( (self.position, self.velocity) )\n",
    "    \n",
    "    ## derivative of state at time t\n",
    "    def ds(self ,t, dt, s):\n",
    "        ## First component is velocity, second component is gravitational acceleration\n",
    "        ## calculated from potential field\n",
    "        ## see gravity potential and its gradient\n",
    "        return np.hstack( (s[3:],self.force_field.a(s[:3]) ) )\n"
   ]
  },
  {
   "cell_type": "code",
   "execution_count": 6,
   "metadata": {},
   "outputs": [],
   "source": [
    "#\n",
    "# A Class to represent a satellite object.\n",
    "\n",
    "class Satellite(object):\n",
    "    def __init__(self,state):\n",
    "        self.state = state\n",
    "        # this defines a sphere to represent satellite in\n",
    "        # vpython 3d environment\n",
    "        self.obj = sphere ( pos=vector(state.position[0],state.position[1],state.position[2]), \n",
    "                            radius = 100000, visible=True, color=vector(1,0,0),\n",
    "                            make_trail=True, trail_type=\"curve\", interval=1, retain=5000\n",
    "                          )\n",
    "\n",
    "    ## Find the next position \n",
    "    # Here we make an iteration with two seconds.\n",
    "    #\n",
    "    def next(self,t, dt):\n",
    "        \n",
    "        ## The number of two seconds iteration\n",
    "        loop_count = dt // 2\n",
    "        # Remaining sub two seconds\n",
    "        remaining = dt % 2\n",
    "        \n",
    "        # Iterate for number of two seconds steps\n",
    "        for i in range(int(loop_count)):\n",
    "            self.state.next(t,2)\n",
    "        # iterate for remaining two seconds\n",
    "        self.state.next(t, remaining)\n",
    "        \n",
    "        # update satellite position\n",
    "        # which is a 3d object in vpython\n",
    "        self.obj.pos = vector(self.state.position[0],self.state.position[1],self.state.position[2])\n"
   ]
  },
  {
   "cell_type": "code",
   "execution_count": 7,
   "metadata": {},
   "outputs": [],
   "source": [
    "# This class represents 3D model of earth for visual simulation of earth rotation\n",
    "# GCRF and ITRF axes are also shown.\n",
    "\n",
    "class Earth(object):\n",
    "    def __init__(self):\n",
    "        self.obj = sphere ( pos=vector(0,0,0),\n",
    "                radius = 6371000, # radius of earth \n",
    "                visible=True, \n",
    "                texture=textures.earth,up=vector(0,0,1),\n",
    "                flipx = False , shininess = 0.9,opacity=0.9)\n",
    "        \n",
    "        self.obj.rotate(angle=np.radians(90),axis=vector(0,0,1)) # X axis points to greenwhich meridian\n",
    "        \n",
    "        # The gravitational force field of a spherical earth\n",
    "        self.force_field = ForceFieldEllipsoidalEarth()\n",
    "        \n",
    "        self.w = 72.92115e-6 # radians/sec The angular velocity of earth\n",
    "        \n",
    "        #The GCRF axes.\n",
    "        sw = 100000\n",
    "        hw=300000       \n",
    "        self.arrow_z_GCRF = arrow(pos=vector(0,0,0),\n",
    "                             axis=vector(0,0,6371000+800000), shaftwidth=sw,headwidth=hw,color=vector(0,0,1))\n",
    "\n",
    "\n",
    "        self.arrow_y_GCRF = arrow(pos=vector(0,0,0),\n",
    "                             axis=vector(0,6371000+800000,0),shaftwidth=sw,headwidth=hw,color=vector(0,1,0))\n",
    "\n",
    "        self.arrow_x_GCRF = arrow(pos=vector(0,0,0),\n",
    "                             axis=vector(6371000+5800000,0,0), shaftwidth=sw,headwidth=hw,color=vector(1,0,0))\n",
    "        self.veq = text(text='Vernel Equinox',billboard=True, \n",
    "                        align='center', color=vector(1,1,0), \n",
    "                        pos = vector(6371000+5800000,0,0),height=10*sw)\n",
    "        self.ncp = text(text='North CP',billboard=True, \n",
    "                align='center', color=vector(1,1,0), \n",
    "                pos = vector(0,0,6371000+800000),height=10*sw)\n",
    "\n",
    "\n",
    "    \n",
    "    def next(self, t, dt):\n",
    "\n",
    "        delta_gast = self.calculate_EOP(t,dt)\n",
    "        self.obj.rotate(angle = np.radians(delta_gast), axis=vector(0,0,1))\n",
    "        \n",
    "    def calculate_EOP(self, t, dt):\n",
    "        return np.degrees(self.w*dt)\n",
    "    \n",
    "    \n",
    "    \n",
    "    def fromGCRFToECEF(self, pos, t):\n",
    "        ## Convert the given position in GCRF at specified datetime t to ECEF\n",
    "        return pos\n",
    "    \n",
    "    \n",
    "    def fromECEFToGeodetic(self, pos, t):\n",
    "        # Convert from ECEF to geodetic lat lon height\n",
    "        return pos"
   ]
  },
  {
   "cell_type": "code",
   "execution_count": null,
   "metadata": {},
   "outputs": [
    {
     "data": {
      "application/javascript": [
       "if (typeof Jupyter !== \"undefined\") {require.undef(\"nbextensions/vpython_libraries/glow.min\");}else{element.textContent = ' ';}"
      ],
      "text/plain": [
       "<IPython.core.display.Javascript object>"
      ]
     },
     "metadata": {},
     "output_type": "display_data"
    },
    {
     "data": {
      "application/javascript": [
       "if (typeof Jupyter !== \"undefined\") {require.undef(\"nbextensions/vpython_libraries/glowcomm\");}else{element.textContent = ' ';}"
      ],
      "text/plain": [
       "<IPython.core.display.Javascript object>"
      ]
     },
     "metadata": {},
     "output_type": "display_data"
    },
    {
     "data": {
      "application/javascript": [
       "if (typeof Jupyter !== \"undefined\") {require.undef(\"nbextensions/vpython_libraries/jquery-ui.custom.min\");}else{element.textContent = ' ';}"
      ],
      "text/plain": [
       "<IPython.core.display.Javascript object>"
      ]
     },
     "metadata": {},
     "output_type": "display_data"
    },
    {
     "data": {
      "application/javascript": [
       "if (typeof Jupyter !== \"undefined\") {require([\"nbextensions/vpython_libraries/glow.min\"], function(){console.log(\"GLOW LOADED\");});}else{element.textContent = ' ';}"
      ],
      "text/plain": [
       "<IPython.core.display.Javascript object>"
      ]
     },
     "metadata": {},
     "output_type": "display_data"
    },
    {
     "data": {
      "application/javascript": [
       "if (typeof Jupyter !== \"undefined\") {require([\"nbextensions/vpython_libraries/glowcomm\"], function(){console.log(\"GLOWCOMM LOADED\");});}else{element.textContent = ' ';}"
      ],
      "text/plain": [
       "<IPython.core.display.Javascript object>"
      ]
     },
     "metadata": {},
     "output_type": "display_data"
    },
    {
     "data": {
      "application/javascript": [
       "if (typeof Jupyter !== \"undefined\") {require([\"nbextensions/vpython_libraries/jquery-ui.custom.min\"], function(){console.log(\"JQUERY LOADED\");});}else{element.textContent = ' ';}"
      ],
      "text/plain": [
       "<IPython.core.display.Javascript object>"
      ]
     },
     "metadata": {},
     "output_type": "display_data"
    }
   ],
   "source": [
    "scene.width = 800\n",
    "scene.height = 600\n",
    "scene.title = \"Earth Rotation Sample\"\n",
    "scene.visible=False\n",
    "running = False\n",
    "scene.caption = \"\"\"Change the delta t to make simulation run faster. \n",
    "<br>To rotate \"camera\", drag with right button or Ctrl-drag.\n",
    "<br>To zoom, drag with middle button or Alt/Option depressed, or use scroll wheel.\n",
    "  On a two-button mouse, middle is left + right.\n",
    "<br>To pan left/right and up/down, Shift-drag.\n",
    "Touch screen: pinch/extend to zoom, swipe or two-finger rotate.\"\"\"\n",
    "\n",
    "t = Time('2012-11-20', scale='utc',location=('0','0'))\n",
    "\n",
    "def Run(b):\n",
    "    global running\n",
    "    running = not running\n",
    "    if running: b.text = \"Pause\"\n",
    "    else: b.text = \"Run\"\n",
    "\n",
    "\n",
    "        \n",
    "button(text=\"Run\", pos=scene.title_anchor, bind=Run)\n",
    "\n",
    "\n",
    "def setspeed(s):\n",
    "    wt.text = '{:1.2f}'.format(s.value)\n",
    "    \n",
    "sl = slider(min=1, max=1440, value=1, length=220, bind=setspeed, right=15)\n",
    "\n",
    "wt = wtext(text='{:1.2f}'.format(sl.value))\n",
    "\n",
    "# Load Vpython textures for earth\n",
    "scene.waitfor(\"textures\")\n",
    "scene.visible = True  # show everything\n",
    "\n",
    "\n",
    "# Time increment of simulation\n",
    "# we will calculate satellite position with dt increments and redraw the scene.\n",
    "dt = 1\n",
    "\n",
    "# Create earth object \n",
    "# and also create the spherical gravity field around earth\n",
    "\n",
    "earth = Earth()\n",
    "\n",
    "sats = [] # an empty list of satellites to simulate\n",
    "\n",
    "own_sat = Satellite(SatelliteState.fromKeplerElements(\n",
    "    earth.force_field, RK2Integrator(),6371000+1600000,\n",
    "                                                     0.001,\n",
    "                                                     20,\n",
    "                                                      0,\n",
    "                                                      0,\n",
    "                                                      0,\n",
    "                                                      0\n",
    "                                                     ))\n",
    "\n",
    "sats.append(own_sat)\n",
    "\n",
    "\n",
    "# Siulation loop\n",
    "\n",
    "while True:\n",
    "    # limit Frame per second\n",
    "    rate(30)\n",
    "    \n",
    "    if (not running):\n",
    "        continue\n",
    "    \n",
    "    # Adjust delta t of simulation\n",
    "    dt = sl.value\n",
    "    # Adjust time\n",
    "    \n",
    "    t = t + (dt/86400.0)\n",
    "    ## And print time in modified julian days\n",
    "    wt.text = ' %s dt = %d seconds  JD=%f' % (str(t),sl.value,t.mjd)\n",
    "\n",
    "    ## Find next positions of satellites \n",
    "    for sat in sats:\n",
    "        sat.next(t,dt)\n",
    "    ## Rotate earth with angular speed\n",
    "    earth.next(t, dt)    "
   ]
  }
 ],
 "metadata": {
  "kernelspec": {
   "display_name": "Python 3 (ipykernel)",
   "language": "python",
   "name": "python3"
  },
  "language_info": {
   "codemirror_mode": {
    "name": "ipython",
    "version": 3
   },
   "file_extension": ".py",
   "mimetype": "text/x-python",
   "name": "python",
   "nbconvert_exporter": "python",
   "pygments_lexer": "ipython3",
   "version": "3.9.12"
  }
 },
 "nbformat": 4,
 "nbformat_minor": 4
}
