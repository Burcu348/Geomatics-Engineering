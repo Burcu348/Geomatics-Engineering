{
 "cells": [
  {
   "cell_type": "markdown",
   "id": "eacd5cb4",
   "metadata": {},
   "source": [
    "# GMT 327 Orbital Mechanics and Astronomy"
   ]
  },
  {
   "cell_type": "markdown",
   "id": "95de1686",
   "metadata": {},
   "source": [
    "## The Great-Circle Distance\n",
    "The Great Circle distance formula computes the shortest distance path of two points on the surface of the sphere. That means, when applies this to calculate distance of two locations on Earth, the formula assumes that the Earth is spherical."
   ]
  },
  {
   "cell_type": "markdown",
   "id": "b349c931",
   "metadata": {},
   "source": [
    "### Example: Great Circle Distance and Azimuth from NewYork (40.641766, -73.780968) to Ankara (40.123499506, 32.990329372)"
   ]
  },
  {
   "cell_type": "code",
   "execution_count": 5,
   "id": "6a493797",
   "metadata": {},
   "outputs": [],
   "source": [
    "from math import radians, degrees, sin, cos, asin, acos, sqrt, pi\n",
    "import numpy as np"
   ]
  },
  {
   "cell_type": "code",
   "execution_count": 6,
   "id": "270b6626",
   "metadata": {},
   "outputs": [
    {
     "name": "stdout",
     "output_type": "stream",
     "text": [
      "Distance:8382.47237487135 km ; Central Angle: 75.38538517738698 deg ; Azimuth Angle:49.16643431617188 deg.\n"
     ]
    }
   ],
   "source": [
    "# Compute distance using the law of cosines.\n",
    "\n",
    "def great_circle(lat1, lon1, lat2, lon2):\n",
    "    lat1, lon1, lat2, lon2 = map(radians, [lat1, lon1, lat2, lon2])\n",
    "    \n",
    "    # The central angle (in radians) between two vectors\n",
    "    Alpha = (acos(sin(lat1) * sin(lat2) + cos(lat1) * cos(lat2) \n",
    "                  * cos(lon1 - lon2))) \n",
    "    \n",
    "    # Distance\n",
    "    Distance = 6371 * Alpha\n",
    "    \n",
    "    return Distance, Alpha*180/pi  # Distance in Km, angle in degrees\n",
    "   \n",
    "\n",
    "def get_azimuth(lat1, lon1, lat2, lon2):\n",
    "   \n",
    "    dLon = lon2 - lon1\n",
    "    \n",
    "    x = sin(radians(lat2)) * cos(radians(lat1)) - cos(radians(lat2)) * sin(radians(lat1)) * cos(radians(dLon))   \n",
    "    y = sin(radians(dLon)) * cos(radians(lat2))\n",
    "    az = np.arctan2(y,x)\n",
    "    azimuth = np.degrees(az)\n",
    "\n",
    "    return azimuth\n",
    "\n",
    "\n",
    "R = 6371 # km\n",
    "\n",
    "# new york\n",
    "lat1 = 40.641766\n",
    "lon1 = -73.780968\n",
    "\n",
    "#Ankara\n",
    "\n",
    "lat2 = 40.123499506\n",
    "lon2 = 32.990329372\n",
    "\n",
    "\n",
    "Distance = great_circle(lat1, lon1, lat2, lon2)\n",
    "Azimuth = get_azimuth(lat1, lon1, lat2, lon2)\n",
    "\n",
    "\n",
    "print(f\"Distance:{Distance[0]} km ; Central Angle: {Distance[1]} deg ; Azimuth Angle:{Azimuth} deg.\")\n"
   ]
  },
  {
   "cell_type": "markdown",
   "id": "a29fe6f1",
   "metadata": {},
   "source": [
    "### Solution with Astropy Library"
   ]
  },
  {
   "cell_type": "markdown",
   "id": "3f61c265",
   "metadata": {},
   "source": [
    "To download astropy library\n",
    "\n",
    "\n",
    "Using pip:      \"pip install astropy\"\n",
    "\n",
    "Using conda:    \"conda install astropy\""
   ]
  },
  {
   "cell_type": "code",
   "execution_count": 7,
   "id": "79af8205",
   "metadata": {},
   "outputs": [
    {
     "name": "stdout",
     "output_type": "stream",
     "text": [
      "Distance:8382.47237487135 km ; Azimuth Angle:49.166434316171866 deg deg.\n"
     ]
    }
   ],
   "source": [
    "import astropy.units as u\n",
    "from astropy.time import Time\n",
    "from astropy.coordinates import SkyCoord, EarthLocation, AltAz\n",
    "\n",
    "# New York\n",
    "lat1 = 40.641766\n",
    "lon1 = -73.780968\n",
    "\n",
    "#Ankara\n",
    "\n",
    "lat2 = 40.123499506\n",
    "lon2 = 32.990329372\n",
    "\n",
    "coord1 = SkyCoord(lon1*u.deg, lat1*u.deg)\n",
    "coord2 = SkyCoord(lon2*u.deg, lat2*u.deg)\n",
    "\n",
    "bearing = coord1.position_angle(coord2).to(u.deg)\n",
    "\n",
    "sep = coord1.separation(coord2)\n",
    "distance = sep.radian * 6371\n",
    "\n",
    "print(f\"Distance:{distance} km ; Azimuth Angle:{bearing} deg.\")\n"
   ]
  },
  {
   "cell_type": "code",
   "execution_count": null,
   "id": "190d157b",
   "metadata": {},
   "outputs": [],
   "source": []
  }
 ],
 "metadata": {
  "kernelspec": {
   "display_name": "Python 3 (ipykernel)",
   "language": "python",
   "name": "python3"
  },
  "language_info": {
   "codemirror_mode": {
    "name": "ipython",
    "version": 3
   },
   "file_extension": ".py",
   "mimetype": "text/x-python",
   "name": "python",
   "nbconvert_exporter": "python",
   "pygments_lexer": "ipython3",
   "version": "3.10.4"
  }
 },
 "nbformat": 4,
 "nbformat_minor": 5
}
