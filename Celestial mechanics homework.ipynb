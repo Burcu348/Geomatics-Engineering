{
 "cells": [
  {
   "cell_type": "code",
   "execution_count": 5,
   "id": "e7ba105a",
   "metadata": {},
   "outputs": [],
   "source": [
    "from astropy.coordinates import Angle,SkyCoord\n",
    "from astropy.time import TimeDelta,Time\n",
    "import astropy.units as u\n",
    "import numpy as np"
   ]
  },
  {
   "cell_type": "code",
   "execution_count": 6,
   "id": "30da8e13",
   "metadata": {},
   "outputs": [
    {
     "name": "stdout",
     "output_type": "stream",
     "text": [
      "66d47m22.6s 53d06m34.5s 279d14m04.5s 38d47m01s\n",
      "Hour angle is  -70.55476089674943\n",
      "Longitude is  32.59199966148886\n",
      "0.315202 = 0.626381 cos(lat) - 0.259506 sin(lat)\n",
      "0.600286 = 0.626381 sin(lat) + 0.259506 cos(lat)\n",
      "Latitude of observer is  39.79272685315375\n"
     ]
    }
   ],
   "source": [
    "A = Angle(\"66°47'22.6\")\n",
    "z = Angle(90,unit=u.deg) - Angle(\"+36°53'25.5\", unit=u.deg)\n",
    "\n",
    "vega = SkyCoord(ra=\"18h36m56.3s\",dec=\"+38°47'01\",frame=\"icrs\")\n",
    "\n",
    "ra = vega.ra\n",
    "dec = vega.dec\n",
    "\n",
    "print (A,z,ra,dec)\n",
    "# Epoch given in local time which is 3 hours after GMT\n",
    "epoch = Time(\"2022-11-14T11:10:42\",scale=\"utc\")\n",
    "epoch = epoch - TimeDelta(3*60*60, format='sec')\n",
    "                \n",
    "h = Angle(np.arcsin(-np.sin(A.rad)*np.sin(z.rad)/np.cos(dec.rad)),unit=u.rad)\n",
    "print (\"Hour angle is \", h.deg)\n",
    "LAST = h + ra\n",
    "GAST = epoch.sidereal_time(\"apparent\",longitude=0)\n",
    "lon = LAST - GAST\n",
    "print (\"Longitude is \",lon.deg)\n",
    "## !!!!! Warning we are assuming spherical earth model here\n",
    "## Normally one would use an ellipsoidal model to establish a horizon system\n",
    "print (\"%f = %f cos(lat) - %f sin(lat)\" % (np.cos(A.rad)*np.sin(z.rad), np.sin(dec.rad), np.cos(dec.rad)*np.cos(h.rad)))\n",
    "print (\"%f = %f sin(lat) + %f cos(lat)\" % (np.cos(z.rad), np.sin(dec.rad), np.cos(dec.rad)*np.cos(h.rad)))\n",
    "# assuming a = cos(lat)\n",
    "# assuming b = sin(lat)\n",
    "# we can write the equation system as\n",
    "l = np.array([np.cos(A.rad)*np.sin(z.rad),np.cos(z.rad)])\n",
    "X = np.array([\n",
    "[np.sin(dec.rad), -np.cos(dec.rad)*np.cos(h.rad)],\n",
    "[np.cos(dec.rad)*np.cos(h.rad), np.sin(dec.rad)]\n",
    "])\n",
    "a = np.linalg.solve(X,l)\n",
    "print (\"Latitude of observer is \", np.degrees(np.arctan2(a[1],a[0])))"
   ]
  },
  {
   "cell_type": "code",
   "execution_count": null,
   "id": "c47ba391",
   "metadata": {},
   "outputs": [],
   "source": []
  }
 ],
 "metadata": {
  "kernelspec": {
   "display_name": "Python 3 (ipykernel)",
   "language": "python",
   "name": "python3"
  },
  "language_info": {
   "codemirror_mode": {
    "name": "ipython",
    "version": 3
   },
   "file_extension": ".py",
   "mimetype": "text/x-python",
   "name": "python",
   "nbconvert_exporter": "python",
   "pygments_lexer": "ipython3",
   "version": "3.9.12"
  }
 },
 "nbformat": 4,
 "nbformat_minor": 5
}
