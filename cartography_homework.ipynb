{
 "cells": [
  {
   "cell_type": "code",
   "execution_count": 1,
   "id": "ebb7e4fb",
   "metadata": {},
   "outputs": [],
   "source": [
    "import math\n",
    "from math import cos,sin,tan"
   ]
  },
  {
   "cell_type": "code",
   "execution_count": 2,
   "id": "5816978e",
   "metadata": {},
   "outputs": [
    {
     "name": "stdout",
     "output_type": "stream",
     "text": [
      "36\n"
     ]
    }
   ],
   "source": [
    "ɸ=39.86561\n",
    "λ=32.73388\n",
    "λ=math.radians(λ)\n",
    "ɸ=math.radians(ɸ)\n",
    "\n",
    "if 0<= λ < math.pi: #code which is calculate UTM zone number \n",
    "    z = 31 + ((180*λ)//(6*math.pi))\n",
    "    print(int(z)) \n",
    "elif math.pi <= λ < 2*math.pi:\n",
    "    z = ((180*λ)//(6*math.pi)) - 29 \n",
    "    print(int(z))"
   ]
  },
  {
   "cell_type": "code",
   "execution_count": 3,
   "id": "5b356c32",
   "metadata": {},
   "outputs": [
    {
     "name": "stdout",
     "output_type": "stream",
     "text": [
      "0.5759586531581288\n"
     ]
    }
   ],
   "source": [
    "if z <= 30 :#calculate central meridian\n",
    "    λ0 = ((6*z + 177)*((math.pi)/180))\n",
    "    print(λ0)\n",
    "elif z >= 31 :\n",
    "    λ0 = ((6*z -183)*((math.pi)/180))\n",
    "    print(λ0)"
   ]
  },
  {
   "cell_type": "code",
   "execution_count": 4,
   "id": "7589b612",
   "metadata": {},
   "outputs": [
    {
     "name": "stdout",
     "output_type": "stream",
     "text": [
      "3.114837190264437e-05\n"
     ]
    }
   ],
   "source": [
    "a = 6378137.0 #semi-major axis\n",
    "b = 6356752.3141#semi-minor axis\n",
    "f = (a-b)/a\n",
    "e1 = math.sqrt((a**2 - b**2)/a**2) #first eccentricity \n",
    "e2 = math.sqrt((a**2-b**2)/b**2)#second eccentricity\n",
    "n = (a-b)/(a+b)\n",
    "p = (a*(1-e1**2))/((1-(e1**2*sin(ɸ)**2)**3/2))\n",
    "v = a/(1-(e1**2*sin(ɸ)**2)**1/2)\n",
    "                                                                          \n",
    "                                                                          \n",
    "A = a*(1-n+(5/4*(n**2-n**3))+81/64*(n**4-n**5))\n",
    "B =3/2*a*(n-n**2+7/8*(n**3-n**4)+55/64*(n**5))\n",
    "C =15/16*a*(n**2-n**3+3/4*(n**4-n**5))\n",
    "D =35/48*a*(n**3-n**4+11/16*n**5)\n",
    "E =315/512*a*(n**4-n**5)\n",
    "S = (A)*ɸ - (B)*sin(2*ɸ) + (C)*sin(4*ɸ) - (D)*sin(6*ɸ) + (E)*sin(8*ɸ)\n",
    "print(E)"
   ]
  },
  {
   "cell_type": "code",
   "execution_count": 5,
   "id": "b0009939",
   "metadata": {},
   "outputs": [],
   "source": [
    "Δλ=λ-λ0\n",
    "k0=0.9996\n",
    "FN=0#Northern hemisphere\n",
    "FE=500000"
   ]
  },
  {
   "cell_type": "code",
   "execution_count": 6,
   "id": "6df6d959",
   "metadata": {},
   "outputs": [],
   "source": [
    "T1 = S*k0 #terms which are used to calculate general equations\n",
    "T2 = (v*sin(ɸ)*cos(ɸ)*k0)//2\n",
    "T3 = ((v*sin(ɸ)*cos(ɸ)**3*k0)//24)*(5-tan(ɸ)**2+9*(e2)**2*cos(ɸ)**2)+4*(e2)**4*(cos(ɸ)**4)\n",
    "T4 = ((v*sin(ɸ)*cos(ɸ)**5*k0)//720)*(61 - 58*tan(ɸ)**2 + tan(ɸ)**4 +\n",
    "                    270*(e2)**2*cos(ɸ)**2 - 330*tan(ɸ)**2*(e2)**2*cos(ɸ)**2+\n",
    "                    445*(e2)**4*cos(ɸ)**4 + 324*(e2)**6*cos(ɸ)**6 -\n",
    "                    680**tan(ɸ)**2*(e2)**4*cos(ɸ)**4+88*(e2)**8*cos(ɸ)**8-600*\n",
    "            tan(ɸ)**2*(e2)**6*cos(ɸ)**6-192*tan(ɸ)**2*(e2)**8*cos(ɸ)**8)\n",
    "                        \n",
    "T5 = ((v*sin(ɸ)*cos(ɸ)**7*k0)//40320)*(1385-3111*tan(ɸ)**2+543*tan(ɸ)**4-tan(ɸ)**6)\n",
    "T6 = v*cos(ɸ)*k0\n",
    "T7 = ((v*(cos(ɸ))**3*k0)//6)*(1-(tan(ɸ))**2+(e2)**2*(cos(ɸ))**2)\n",
    "T8 = ((v*cos(ɸ)**5*k0)//120)*(5-18*tan(ɸ)**2+tan(ɸ)**4+14*(e2)**2*cos(ɸ)**2-\n",
    "                            58*tan(ɸ)**2*(e2)**2*cos(ɸ)**2+13*(e2)**4*cos(ɸ)**4+\n",
    "                            4*(e2)**6*cos(ɸ)**6-64*tan(ɸ)**2*(e2)**4*cos(ɸ)**4-\n",
    "                            24*tan(ɸ)**2*(e2)**6*cos(ɸ)**6)\n",
    "T9 = ((v*cos(ɸ)**7*k0)//5040)*(61-479*tan(ɸ)**2+179*tan(ɸ)**4-tan(ɸ)**6)"
   ]
  },
  {
   "cell_type": "code",
   "execution_count": 7,
   "id": "f5c06dca",
   "metadata": {},
   "outputs": [
    {
     "name": "stdout",
     "output_type": "stream",
     "text": [
      "477239.6142042152\n",
      "4412875.297536059\n"
     ]
    }
   ],
   "source": [
    "N = FN + (T1+(Δλ)**2*T2+(Δλ)**4*T3+(Δλ)**6*T4+(Δλ)**8*T5)\n",
    "E = FE + (Δλ*T6+(Δλ)**3*T7+(Δλ)**5*T8+(Δλ)**7*T9)\n",
    "print(E)#Easting coordinate\n",
    "print(N)#Northing coordinate"
   ]
  },
  {
   "cell_type": "code",
   "execution_count": 10,
   "id": "87faccc9",
   "metadata": {},
   "outputs": [
    {
     "name": "stdout",
     "output_type": "stream",
     "text": [
      "(477239.59262155567, 4412875.297742406)\n"
     ]
    }
   ],
   "source": [
    "import pyproj\n",
    "\n",
    "wgs_leigon = pyproj.Transformer.from_crs(4326,32636)\n",
    "leigValues = wgs_leigon.transform(39.86561,32.73388)\n",
    "print(leigValues) #grid coordinates using Pyproj"
   ]
  },
  {
   "cell_type": "code",
   "execution_count": 11,
   "id": "2b0bae56",
   "metadata": {},
   "outputs": [
    {
     "name": "stdout",
     "output_type": "stream",
     "text": [
      "0.021582659508567303\n",
      "0.00020634662359952927\n"
     ]
    }
   ],
   "source": [
    "###comparison of my results and pyproj results\n",
    "PE = 477239.59262155567#pyproj easting coordinate\n",
    "PN = 4412875.297742406#pyproj northing coordinate\n",
    "\n",
    "dif1 = abs(PE-E)\n",
    "dif2 = abs(PN-N)\n",
    "print(dif1)\n",
    "print(dif2)"
   ]
  },
  {
   "cell_type": "code",
   "execution_count": null,
   "id": "70aa2992",
   "metadata": {},
   "outputs": [],
   "source": []
  }
 ],
 "metadata": {
  "kernelspec": {
   "display_name": "Python 3 (ipykernel)",
   "language": "python",
   "name": "python3"
  },
  "language_info": {
   "codemirror_mode": {
    "name": "ipython",
    "version": 3
   },
   "file_extension": ".py",
   "mimetype": "text/x-python",
   "name": "python",
   "nbconvert_exporter": "python",
   "pygments_lexer": "ipython3",
   "version": "3.9.12"
  }
 },
 "nbformat": 4,
 "nbformat_minor": 5
}
